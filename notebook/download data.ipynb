{
 "cells": [
  {
   "cell_type": "markdown",
   "id": "3c0e2ba1",
   "metadata": {},
   "source": [
    "# DOWNLOAD THE DATA\n",
    "\n"
   ]
  },
  {
   "cell_type": "code",
   "execution_count": null,
   "id": "f93fd5a4",
   "metadata": {},
   "outputs": [],
   "source": [
    "pip install U- pandas pandas-profiling scikit-learn sagemaker\n",
    "\n"
   ]
  },
  {
   "cell_type": "code",
   "execution_count": 1,
   "id": "b6625e62",
   "metadata": {},
   "outputs": [
    {
     "ename": "SyntaxError",
     "evalue": "invalid syntax (873988788.py, line 2)",
     "output_type": "error",
     "traceback": [
      "\u001b[1;36m  Cell \u001b[1;32mIn[1], line 2\u001b[1;36m\u001b[0m\n\u001b[1;33m    curl https://archive.ics.uci.edu/ml/machine-learning-databases/adult/adult.data --output../data/adult.data\u001b[0m\n\u001b[1;37m         ^\u001b[0m\n\u001b[1;31mSyntaxError\u001b[0m\u001b[1;31m:\u001b[0m invalid syntax\n"
     ]
    }
   ],
   "source": [
    "\n",
    "\n",
    "# Download the data\n",
    "curl https://archive.ics.uci.edu/ml/machine-learning-databases/adult/adult.data --output../data/adult.data\n",
    "# Download the metadata\n",
    "curl https://archive.ics.uci.edu/ml/machine-learning-databases/adult/adult.names--output../data/adult.names\n",
    "\n"
   ]
  },
  {
   "cell_type": "markdown",
   "id": "93de0122",
   "metadata": {},
   "source": [
    "# Load the data into a Pandas Dataframe"
   ]
  },
  {
   "cell_type": "code",
   "execution_count": null,
   "id": "15d9a5b2",
   "metadata": {},
   "outputs": [],
   "source": [
    "import pandas as pd\n",
    "adult_df = pd.read_csv(\"../data/adult.data\", header=None)\n",
    "adult_df.columns [\"age\",  \"workclass\",\"fnlwgt\",\"education\",\"education-num\",\"marital-status\",\n",
    "\"occupation\",\"relationship\",\"race\",\"sex\", \"capital-gain\", \"capital-loss\", \"hours-per-week\", \n",
    "\"native-country\",\"target\"]\n",
    "adult_df [\"target\"]= adult_df [\"target\"].apply(lambda x: 1 if \">50K\" in x else 0)\n",
    "print(adult_df.shape)\n",
    "adult_df.head()"
   ]
  }
 ],
 "metadata": {
  "kernelspec": {
   "display_name": "Python 3 (ipykernel)",
   "language": "python",
   "name": "python3"
  },
  "language_info": {
   "codemirror_mode": {
    "name": "ipython",
    "version": 3
   },
   "file_extension": ".py",
   "mimetype": "text/x-python",
   "name": "python",
   "nbconvert_exporter": "python",
   "pygments_lexer": "ipython3",
   "version": "3.11.3"
  }
 },
 "nbformat": 4,
 "nbformat_minor": 5
}
